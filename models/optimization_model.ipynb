{
 "cells": [
  {
   "cell_type": "code",
   "execution_count": null,
   "metadata": {},
   "outputs": [],
   "source": [
    "import os\n",
    "import csv\n",
    "import sys\n",
    "import numpy as np\n",
    "import matplotlib.pyplot as plot\n",
    "from scipy.stats import poisson\n",
    "from scipy.stats import gamma\n",
    "from scipy.stats import beta\n",
    "from scipy.stats import norm\n",
    "import pandas as pd\n",
    "import itertools\n",
    "from scipy.stats import dirichlet\n",
    "%run -i utils.py\n",
    "sys.path.insert(0, '../')\n",
    "from get_team_api import *\n",
    "from get_api import *"
   ]
  },
  {
   "cell_type": "markdown",
   "metadata": {},
   "source": [
    "### Optimization of players over any fixtures"
   ]
  },
  {
   "cell_type": "code",
   "execution_count": null,
   "metadata": {},
   "outputs": [],
   "source": [
    "all_players_params = pd.read_csv(\"../parameters/all_players_params.csv\")\n",
    "all_teams_params = pd.read_csv(\"../parameters/all_teams_params.csv\", header=None)\n",
    "teams = pd.read_csv(\"../parameters/all_teams.csv\", header=None).values[:, 0]"
   ]
  },
  {
   "cell_type": "code",
   "execution_count": null,
   "metadata": {
    "scrolled": true
   },
   "outputs": [],
   "source": [
    "# fixture list this season to predict\n",
    "fixture_list_this_season = getFixtures(np.linspace(1, 1, 1).astype(int), team_id_file=\"../data/team_id_20192020.csv\",\n",
    "                                       filelead=\"../\")"
   ]
  },
  {
   "cell_type": "code",
   "execution_count": null,
   "metadata": {
    "scrolled": true
   },
   "outputs": [],
   "source": [
    "C, S, CS, G, MP = ComputeExpectedPoints(fixture_list_this_season, teams, all_players_params, all_teams_params, Niter=500,\n",
    "                                        additionalstats=True)"
   ]
  },
  {
   "cell_type": "code",
   "execution_count": null,
   "metadata": {},
   "outputs": [],
   "source": [
    "# add expected points and std to data frame\n",
    "all_players_params['Expected Points 2019/2020'] = C\n",
    "all_players_params['Std Points 2019/2020'] = S\n",
    "all_players_params['Lower 95% Confidence Points 2019/2020'] = np.fmax(0, C - (2 * S))\n",
    "all_players_params['Upper 95% Confidence Points 2019/2020'] = C + (2 * S)\n",
    "all_players_params['Expected Goals 2019/2020'] = G\n",
    "all_players_params['Expected Clean Sheets 2019/2020'] = CS\n",
    "all_players_params['Expected Minutes Played 2019/2020'] = MP"
   ]
  },
  {
   "cell_type": "code",
   "execution_count": null,
   "metadata": {},
   "outputs": [],
   "source": [
    "# save to csv\n",
    "frame = all_players_params\n",
    "frameref = frame[['player', 'position', 'team', 'Expected Points 2019/2020',\n",
    "                  'Std Points 2019/2020', 'Lower 95% Confidence Points 2019/2020',\n",
    "                  'Upper 95% Confidence Points 2019/2020', 'Expected Goals 2019/2020', 'Expected Clean Sheets 2019/2020',\n",
    "                  'Expected Minutes Played 2019/2020']]\n",
    "frameref.to_csv(\"../data/pre_draft_expected_points_20192020.csv\")"
   ]
  },
  {
   "cell_type": "code",
   "execution_count": null,
   "metadata": {},
   "outputs": [],
   "source": [
    "# extract players already in teams\n",
    "leagueId = \"5HrRGo92iWoHuvYdX\"\n",
    "gw = 1\n",
    "aPlayers = all_players_params.loc[availablePlayers(leagueId, gw), :]\n",
    "#aPlayers = all_players_params"
   ]
  },
  {
   "cell_type": "code",
   "execution_count": null,
   "metadata": {},
   "outputs": [],
   "source": [
    "# extract best current players\n",
    "frame = aPlayers\n",
    "frame.sort_values(by=['Expected Points 2019/2020'], ascending=False)"
   ]
  },
  {
   "cell_type": "code",
   "execution_count": null,
   "metadata": {},
   "outputs": [],
   "source": [
    "# extract best current goalkeepers\n",
    "frame = aPlayers\n",
    "frame = frame.loc[frame.index[frame['position'] == 'GKP'], :]\n",
    "frame.sort_values(by=['Expected Points 2019/2020'], ascending=False)"
   ]
  },
  {
   "cell_type": "code",
   "execution_count": null,
   "metadata": {},
   "outputs": [],
   "source": [
    "# extract best current defenders\n",
    "frame = aPlayers\n",
    "frame = frame.loc[frame.index[frame['position'] == 'DEF'], :]\n",
    "frame.sort_values(by=['Expected Points 2019/2020'], ascending=False)"
   ]
  },
  {
   "cell_type": "code",
   "execution_count": null,
   "metadata": {},
   "outputs": [],
   "source": [
    "# extract best current midfielders\n",
    "frame = aPlayers\n",
    "frame = frame.loc[frame.index[frame['position'] == 'MID'], :]\n",
    "frame.sort_values(by=['Expected Points 2019/2020'], ascending=False)"
   ]
  },
  {
   "cell_type": "code",
   "execution_count": null,
   "metadata": {
    "scrolled": true
   },
   "outputs": [],
   "source": [
    "# extract best current forwards\n",
    "frame = aPlayers\n",
    "frame = frame.loc[frame.index[frame['position'] == 'FWD'], :]\n",
    "frame.sort_values(by=['Expected Points 2019/2020'], ascending=False)"
   ]
  },
  {
   "cell_type": "markdown",
   "metadata": {},
   "source": [
    "### Analysis of previous season - model verification"
   ]
  },
  {
   "cell_type": "code",
   "execution_count": null,
   "metadata": {},
   "outputs": [],
   "source": [
    "# create fixture list this season to predict\n",
    "fixture_list_last_season = pd.read_csv(\"../data/prem_results_20182019.csv\", header=None).values\n",
    "\n",
    "all_players_params = pd.read_csv(\"../parameters/all_players_params.csv\")\n",
    "all_teams_params = pd.read_csv(\"../parameters/all_teams_params.csv\", header=None)\n",
    "teams = pd.read_csv(\"../parameters/all_teams.csv\", header=None).values[:, 0]\n",
    "\n",
    "C, S, CS, G, MP = ComputeExpectedPoints(fixture_list_last_season, teams, all_players_params, all_teams_params, Niter=50,\n",
    "                                        additionalstats=True)"
   ]
  },
  {
   "cell_type": "code",
   "execution_count": null,
   "metadata": {
    "scrolled": false
   },
   "outputs": [],
   "source": [
    "# plot with respect to last seasons points - for those players eligible\n",
    "y3 = pd.read_csv(\"../data/players_raw_20182019.csv\")\n",
    "y3['full_name'] = (y3['first_name'] + ' ' + y3['second_name'])\n",
    "exp_points = []\n",
    "sd_points = []\n",
    "true_points = []\n",
    "exp_goals = []\n",
    "true_goals = []\n",
    "exp_cs = []\n",
    "true_cs = []\n",
    "exp_mp = []\n",
    "true_mp = []\n",
    "cr = []\n",
    "for i in range(len(all_players_params.index)):\n",
    "    ind = np.where(all_players_params.loc[all_players_params.index[i], 'player'] == y3['full_name'])[0]\n",
    "    if (len(ind) > 0):\n",
    "        exp_points.append(C[i])\n",
    "        sd_points.append(S[i])\n",
    "        exp_cs.append(CS[i])\n",
    "        exp_mp.append(MP[i])\n",
    "        exp_goals.append(G[i])\n",
    "        true_points.append(y3.loc[y3.index[ind[0]], 'total_points'] - y3.loc[y3.index[ind[0]], 'bonus'])\n",
    "        true_goals.append(y3.loc[y3.index[ind[0]], 'goals_scored'])\n",
    "        true_mp.append(y3.loc[y3.index[ind[0]], 'minutes'])\n",
    "        true_cs.append(y3.loc[y3.index[ind[0]], 'clean_sheets'])\n",
    "        cr.append([((all_players_params.loc[all_players_params.index[i], 'position'] == 'FWD')),\n",
    "                   ((all_players_params.loc[all_players_params.index[i], 'position'] == 'MID')),\n",
    "                   ((all_players_params.loc[all_players_params.index[i], 'position'] == 'DEF'))])\n",
    "\n",
    "\n",
    "exp_points = np.array(exp_points)\n",
    "sd_points = np.array(sd_points)\n",
    "exp_goals = np.array(exp_goals)\n",
    "exp_cs = np.array(exp_cs)\n",
    "exp_mp = np.array(exp_mp)\n",
    "true_points = np.array(true_points)\n",
    "true_goals = np.array(true_goals)\n",
    "true_mp = np.array(true_mp)\n",
    "true_cs = np.array(true_cs)\n",
    "\n",
    "plot.errorbar(exp_points, true_points, xerr=2 * sd_points, marker='.', linestyle=\"\", alpha=0.1)\n",
    "plot.scatter(exp_points, true_points, color=cr, s=6)\n",
    "plot.plot(true_points, true_points, linestyle=\"--\", color='g')\n",
    "plot.xlim([0, 350])\n",
    "plot.ylim([0, 350])\n",
    "plot.xlabel('Expected Points 2018/2019')\n",
    "plot.ylabel('Actual Points 2018/2019')\n",
    "plot.show()"
   ]
  },
  {
   "cell_type": "code",
   "execution_count": null,
   "metadata": {},
   "outputs": [],
   "source": [
    "# plot with respect to last seasons clean sheets - for eligble players\n",
    "plot.scatter(exp_cs, true_cs, color=cr, s=6)\n",
    "plot.plot(true_cs, true_cs, linestyle=\"--\", color='g')\n",
    "plot.xlim([0, 27])\n",
    "plot.ylim([0, 27])\n",
    "plot.xlabel('Expected Clean Sheets 2018/2019')\n",
    "plot.ylabel('Actual Clean Sheets 2018/2019')\n",
    "plot.show()"
   ]
  },
  {
   "cell_type": "code",
   "execution_count": null,
   "metadata": {},
   "outputs": [],
   "source": [
    "# plot with respect to last seasons goals - for eligble players\n",
    "plot.scatter(exp_goals, true_goals, color=cr, s=6)\n",
    "plot.plot(true_goals, true_goals, linestyle=\"--\", color='g')\n",
    "plot.xlim([0, 30])\n",
    "plot.ylim([0, 30])\n",
    "plot.xlabel('Expected Goals 2018/2019')\n",
    "plot.ylabel('Actual Goals 2018/2019')\n",
    "plot.show()"
   ]
  },
  {
   "cell_type": "code",
   "execution_count": null,
   "metadata": {},
   "outputs": [],
   "source": []
  },
  {
   "cell_type": "code",
   "execution_count": null,
   "metadata": {},
   "outputs": [],
   "source": []
  }
 ],
 "metadata": {
  "kernelspec": {
   "display_name": "Python 3",
   "language": "python",
   "name": "python3"
  },
  "language_info": {
   "codemirror_mode": {
    "name": "ipython",
    "version": 3
   },
   "file_extension": ".py",
   "mimetype": "text/x-python",
   "name": "python",
   "nbconvert_exporter": "python",
   "pygments_lexer": "ipython3",
   "version": "3.5.2"
  }
 },
 "nbformat": 4,
 "nbformat_minor": 2
}
