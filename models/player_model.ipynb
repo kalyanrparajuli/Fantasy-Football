{
 "cells": [
  {
   "cell_type": "code",
   "execution_count": null,
   "metadata": {},
   "outputs": [],
   "source": [
    "import os\n",
    "import csv\n",
    "import matplotlib.pyplot as plot\n",
    "import numpy as np\n",
    "import pandas as pd\n",
    "from collections import Counter\n",
    "from scipy.stats import poisson\n",
    "from scipy.stats import beta\n",
    "from scipy.stats import dirichlet\n",
    "%run -i utils.py\n",
    "%run -i priors.py"
   ]
  },
  {
   "cell_type": "markdown",
   "metadata": {},
   "source": [
    "### Historical training"
   ]
  },
  {
   "cell_type": "code",
   "execution_count": null,
   "metadata": {
    "scrolled": true
   },
   "outputs": [],
   "source": [
    "y2 = pd.read_csv(\"../data/players_raw_20172018.csv\")\n",
    "y2['team_name'] = team_code(y2['team'], season=\"2017/2018\")\n",
    "\n",
    "y3 = pd.read_csv(\"../data/draft_data/draft_player_raw_20182019.csv\")\n",
    "y3['team_name'] = team_code(y3['team_id'], season=\"2019/2020\")  # this is set of only this seasons players and have this years codes\n",
    "\n",
    "y4 = pd.read_csv(\"../data/draft_data/draft_player_raw.csv\")\n",
    "y4['team_name'] = team_code(y4['team_id'], season=\"2019/2020\")  # this is set of only this seasons players and have this years codes\n"
   ]
  },
  {
   "cell_type": "code",
   "execution_count": null,
   "metadata": {
    "scrolled": true
   },
   "outputs": [],
   "source": [
    "# make games played\n",
    "y2['Games'] = np.ceil(y2['total_points'] / np.maximum(1, y2['points_per_game'].values))\n",
    "games = np.zeros(len(y3.index))\n",
    "for i in range(len(y3.index)):\n",
    "    dat = pd.read_csv(\"../data/draft_data/players_20182019/\" + y3.loc[y3.index[i], '_id'] + \".csv\")\n",
    "    games[i] = sum(dat['mp'] > 0)\n",
    "y3['Games'] = games"
   ]
  },
  {
   "cell_type": "code",
   "execution_count": null,
   "metadata": {},
   "outputs": [],
   "source": [
    "# minutes per game per season\n",
    "y2['MPerc'] = y2['minutes'] / (90. * 38)\n",
    "y3['MPerc'] = y3['total_mins'] / (90. * 38)"
   ]
  },
  {
   "cell_type": "code",
   "execution_count": null,
   "metadata": {},
   "outputs": [],
   "source": [
    "# full name\n",
    "y2['full_name'] = (y2['first_name'] + ' ' + y2['second_name'])\n",
    "y3['full_name'] = (y3['first_name'] + ' ' + y3['second_name'])\n",
    "y4['full_name'] = (y4['first_name'] + ' ' + y4['second_name'])"
   ]
  },
  {
   "cell_type": "code",
   "execution_count": null,
   "metadata": {},
   "outputs": [],
   "source": [
    "# Season - find out if current list of players are new to this season\n",
    "y2['Season'] = 2\n",
    "y4['Season'] = 4\n",
    "y3['Season'] = np.zeros(len(y3.index))\n",
    "for i in range(len(y3.index)):\n",
    "    dat = pd.read_csv(\"../data/draft_data/players_20182019/\" + y3.loc[y3.index[i], '_id'] + \".csv\")\n",
    "    y3.loc[y3.index[i], 'Season'] = int(((len(dat.index) > 0) * 3) + ((len(dat.index) == 0) * 4))"
   ]
  },
  {
   "cell_type": "code",
   "execution_count": null,
   "metadata": {},
   "outputs": [],
   "source": [
    "# Find out how many available games they were in (i.e. if they were transferred in half way through season)\n",
    "# assume y2 all available for 38 games\n",
    "y2['GamesAvailable'] = 38\n",
    "y3['GamesAvailable'] = np.zeros(len(y3.index))\n",
    "for i in range(len(y3.index)):\n",
    "    dat = pd.read_csv(\"../data/draft_data/players_20182019/\" + y3.loc[y3.index[i], '_id'] + \".csv\")\n",
    "    y3.loc[y3.index[i], 'GamesAvailable'] = len(dat.index)"
   ]
  },
  {
   "cell_type": "code",
   "execution_count": null,
   "metadata": {},
   "outputs": [],
   "source": [
    "# teams goals when on pitch\n",
    "y2['TGoals'] = np.zeros(len(y2.index))  # approximate for this season\n",
    "for i in range(len(y2.index)):\n",
    "    y2.loc[y2.index[i], 'TGoals'] = np.sum(y2.loc[y2.index[y2['team_name'] == y2.loc[y2.index[i], 'team_name']], 'goals_scored'])\n",
    "y2['TGoals'] = y2['TGoals'] / (38 / y2['Games'])\n",
    "y3['TGoals'] = np.zeros(len(y3.index))\n",
    "for i in range(len(y3.index)):\n",
    "    dat = pd.read_csv(\"../data/draft_data/players_20182019/\" + y3.loc[y3.index[i], '_id'] + \".csv\")\n",
    "    y3.loc[y3.index[i], 'TGoals'] = np.sum(np.ceil((dat['mp'] > 0) * (dat['mp'] / 90) * dat['goals_for']))"
   ]
  },
  {
   "cell_type": "code",
   "execution_count": null,
   "metadata": {},
   "outputs": [],
   "source": [
    "y2p = []\n",
    "y3p = []\n",
    "y4p = []\n",
    "for i in range(len(y2.index)):\n",
    "    y2p.append(np.array(['GKP', 'DEF', 'MID', 'FWD'])[int(y2.loc[y2.index[i], \"element_type\"] - 1)])\n",
    "for i in range(len(y3.index)):\n",
    "    y3p.append(np.array(['GKP', 'DEF', 'MID', 'FWD'])[int(y3.loc[y3.index[i], \"element_type_id\"] - 1)])\n",
    "for i in range(len(y4.index)):\n",
    "    y4p.append(np.array(['GKP', 'DEF', 'MID', 'FWD'])[int(y4.loc[y4.index[i], \"element_type_id\"] - 1)])\n",
    "y2['position'] = y2p\n",
    "y3['position'] = y3p\n",
    "y4['position'] = y4p"
   ]
  },
  {
   "cell_type": "code",
   "execution_count": null,
   "metadata": {},
   "outputs": [],
   "source": [
    "# only focus on players in league in current season (y3)\n",
    "ID = y4['_id']\n",
    "players = y4['full_name']\n",
    "teams = y4['team_name']\n",
    "positions = y4['position']\n",
    "season = y4['Season']"
   ]
  },
  {
   "cell_type": "code",
   "execution_count": null,
   "metadata": {},
   "outputs": [],
   "source": [
    "# match them up to players from last year\n",
    "ids = []\n",
    "ids3 = []\n",
    "for i in range(len(y2.index)):\n",
    "    ind = np.where(y2.loc[y2.index[i], 'full_name'] == players)[0]\n",
    "    if (len(ind) > 0):\n",
    "        ids.append(ID[ind[0]])\n",
    "    else:\n",
    "        ids.append(np.nan)\n",
    "for i in range(len(y3.index)):\n",
    "    ind = np.where(y3.loc[y3.index[i], 'full_name'] == players)[0]\n",
    "    if (len(ind) > 0):\n",
    "        ids3.append(ID[ind[0]])\n",
    "    else:\n",
    "        ids3.append(np.nan)\n",
    "y2ids = np.array(ids)\n",
    "y2['ID'] = y2ids\n",
    "y3ids = np.array(ids3)\n",
    "y3['ID'] = y3ids"
   ]
  },
  {
   "cell_type": "markdown",
   "metadata": {},
   "source": [
    "### Bayesian update of simplexs"
   ]
  },
  {
   "cell_type": "markdown",
   "metadata": {},
   "source": [
    "#### Updating functions for player simplexs"
   ]
  },
  {
   "cell_type": "code",
   "execution_count": null,
   "metadata": {},
   "outputs": [],
   "source": [
    "# creating parameter data frame for all current players\n",
    "players_parameters_dict = {'ID': ID, 'player': players, 'team': teams, 'position': positions, 'last_season': season,\n",
    "                          'a_goals': np.zeros(len(ID)), 'b_goals': np.zeros(len(ID)), 'c_goals': np.zeros(len(ID)),\n",
    "                          'a_mins': np.zeros(len(ID)), 'b_mins': np.zeros(len(ID)),\n",
    "                          'a_games': np.zeros(len(ID)), 'b_games': np.zeros(len(ID))}\n",
    "players_parameters = pd.DataFrame(data = players_parameters_dict)"
   ]
  },
  {
   "cell_type": "code",
   "execution_count": null,
   "metadata": {
    "scrolled": true
   },
   "outputs": [],
   "source": [
    "# sanity check\n",
    "players_parameters.loc[players_parameters.index[players_parameters['team'] == 'Man City'], :]"
   ]
  },
  {
   "cell_type": "code",
   "execution_count": null,
   "metadata": {},
   "outputs": [],
   "source": [
    "# fill in priors\n",
    "for j in range(len(players_parameters.index)):\n",
    "    if players_parameters.loc[players_parameters.index[j], 'position'] == 'GKP':\n",
    "        players_parameters.loc[players_parameters.index[j], 'a_goals'] = ga_prior_a_g\n",
    "        players_parameters.loc[players_parameters.index[j], 'b_goals'] = ga_prior_b_g\n",
    "        players_parameters.loc[players_parameters.index[j], 'c_goals'] = ga_prior_c_g\n",
    "        players_parameters.loc[players_parameters.index[j], 'a_mins'] = m_prior_a_g\n",
    "        players_parameters.loc[players_parameters.index[j], 'b_mins'] = m_prior_b_g\n",
    "        players_parameters.loc[players_parameters.index[j], 'a_games'] = p_prior_a_g\n",
    "        players_parameters.loc[players_parameters.index[j], 'b_games'] = p_prior_b_g\n",
    "    if players_parameters.loc[players_parameters.index[j], 'position'] == 'MID':\n",
    "        players_parameters.loc[players_parameters.index[j], 'a_goals'] = ga_prior_a_m\n",
    "        players_parameters.loc[players_parameters.index[j], 'b_goals'] = ga_prior_b_m\n",
    "        players_parameters.loc[players_parameters.index[j], 'c_goals'] = ga_prior_c_m\n",
    "        players_parameters.loc[players_parameters.index[j], 'a_mins'] = m_prior_a_m\n",
    "        players_parameters.loc[players_parameters.index[j], 'b_mins'] = m_prior_b_m\n",
    "        players_parameters.loc[players_parameters.index[j], 'a_games'] = p_prior_a_m\n",
    "        players_parameters.loc[players_parameters.index[j], 'b_games'] = p_prior_b_m\n",
    "    if players_parameters.loc[players_parameters.index[j], 'position'] == 'DEF':\n",
    "        players_parameters.loc[players_parameters.index[j], 'a_goals'] = ga_prior_a_d\n",
    "        players_parameters.loc[players_parameters.index[j], 'b_goals'] = ga_prior_b_d\n",
    "        players_parameters.loc[players_parameters.index[j], 'c_goals'] = ga_prior_c_d\n",
    "        players_parameters.loc[players_parameters.index[j], 'a_mins'] = m_prior_a_d\n",
    "        players_parameters.loc[players_parameters.index[j], 'b_mins'] = m_prior_b_d\n",
    "        players_parameters.loc[players_parameters.index[j], 'a_games'] = p_prior_a_d\n",
    "        players_parameters.loc[players_parameters.index[j], 'b_games'] = p_prior_b_d\n",
    "    if players_parameters.loc[players_parameters.index[j], 'position'] == 'FWD':\n",
    "        players_parameters.loc[players_parameters.index[j], 'a_goals'] = ga_prior_a_f\n",
    "        players_parameters.loc[players_parameters.index[j], 'b_goals'] = ga_prior_b_f\n",
    "        players_parameters.loc[players_parameters.index[j], 'c_goals'] = ga_prior_c_f\n",
    "        players_parameters.loc[players_parameters.index[j], 'a_mins'] = m_prior_a_f\n",
    "        players_parameters.loc[players_parameters.index[j], 'b_mins'] = m_prior_b_f\n",
    "        players_parameters.loc[players_parameters.index[j], 'a_games'] = p_prior_a_f\n",
    "        players_parameters.loc[players_parameters.index[j], 'b_games'] = p_prior_b_f"
   ]
  },
  {
   "cell_type": "code",
   "execution_count": null,
   "metadata": {},
   "outputs": [],
   "source": [
    "# update with historical data to find posteriors (priors for first game of season)\n",
    "# scale season importance - first season weights (1 / 3), second season weights (2 / 3)\n",
    "scale_y2 = (1. / 3.)\n",
    "scale_y3 = (2. / 3.)\n",
    "for i in range(len(players_parameters.index)):\n",
    "    \n",
    "    if len(y2.index[players_parameters.loc[players_parameters.index[i], 'ID'] == y2['ID'].values]) > 0:\n",
    "        idind = y2.index[players_parameters.loc[players_parameters.index[i], 'ID'] == y2['ID'].values][0]\n",
    "        gms = y2.loc[y2.index[idind], 'Games'] * scale_y2\n",
    "        goa = y2.loc[y2.index[idind], 'goals_scored'] * scale_y2\n",
    "        mns = y2.loc[y2.index[idind], 'minutes'] * scale_y2\n",
    "        assi = y2.loc[y2.index[idind], 'assists'] * scale_y2\n",
    "        tgoa = y2.loc[y2.index[idind], 'TGoals'] * scale_y2\n",
    "        gms_available = y2.loc[y2.index[idind], 'GamesAvailable'] * scale_y2\n",
    "\n",
    "        post_a_goals, post_b_goals, post_c_goals = update_goals_and_assists_simplex(players_parameters.loc[players_parameters.index[i], 'a_goals'],\n",
    "                                                                                    players_parameters.loc[players_parameters.index[i], 'b_goals'],\n",
    "                                                                                    players_parameters.loc[players_parameters.index[i], 'c_goals'],\n",
    "                                                                                    goa, assi, tgoa)\n",
    "        post_a_mins, post_b_mins = update_mins_simplex(players_parameters.loc[players_parameters.index[i], 'a_mins'],\n",
    "                                                          players_parameters.loc[players_parameters.index[i], 'b_mins'],\n",
    "                                                          mns, gms)\n",
    "        post_a_played, post_b_played = update_games_played_simplex(players_parameters.loc[players_parameters.index[i], 'a_games'],\n",
    "                                                          players_parameters.loc[players_parameters.index[i], 'b_games'],\n",
    "                                                          gms, gms_available - gms)\n",
    "\n",
    "        players_parameters.loc[players_parameters.index[i], 'a_goals'] = post_a_goals\n",
    "        players_parameters.loc[players_parameters.index[i], 'b_goals'] = post_b_goals\n",
    "        players_parameters.loc[players_parameters.index[i], 'c_goals'] = post_c_goals\n",
    "        players_parameters.loc[players_parameters.index[i], 'a_mins'] = post_a_mins\n",
    "        players_parameters.loc[players_parameters.index[i], 'b_mins'] = post_b_mins\n",
    "        players_parameters.loc[players_parameters.index[i], 'a_games'] = post_a_played\n",
    "        players_parameters.loc[players_parameters.index[i], 'b_games'] = post_b_played\n",
    "\n",
    "    if len(y3.index[players_parameters.loc[players_parameters.index[i], 'ID'] == y3['ID'].values]) > 0:\n",
    "        idind = y3.index[players_parameters.loc[players_parameters.index[i], 'ID'] == y3['ID'].values][0]\n",
    "        gms = y3.loc[y3.index[idind], 'Games'] *  scale_y3\n",
    "        goa = y3.loc[y3.index[idind], 'total_goals'] * scale_y3\n",
    "        mns = y3.loc[y3.index[idind], 'total_mins'] * scale_y3\n",
    "        assi = y3.loc[y3.index[idind], 'total_assists'] * scale_y3\n",
    "        tgoa =  y3.loc[y3.index[idind], 'TGoals'] * scale_y3\n",
    "        gms_available = y3.loc[y3.index[idind], 'GamesAvailable'] * scale_y3\n",
    "\n",
    "        post_a_goals, post_b_goals, post_c_goals = update_goals_and_assists_simplex(players_parameters.loc[players_parameters.index[i], 'a_goals'],\n",
    "                                                                                    players_parameters.loc[players_parameters.index[i], 'b_goals'],\n",
    "                                                                                    players_parameters.loc[players_parameters.index[i], 'c_goals'],\n",
    "                                                                                    goa, assi, tgoa)\n",
    "        post_a_mins, post_b_mins = update_mins_simplex(players_parameters.loc[players_parameters.index[i], 'a_mins'],\n",
    "                                                          players_parameters.loc[players_parameters.index[i], 'b_mins'],\n",
    "                                                          mns, gms)\n",
    "        post_a_played, post_b_played = update_games_played_simplex(players_parameters.loc[players_parameters.index[i], 'a_games'],\n",
    "                                                          players_parameters.loc[players_parameters.index[i], 'b_games'],\n",
    "                                                          gms, gms_available - gms)\n",
    "\n",
    "        players_parameters.loc[players_parameters.index[i], 'a_goals'] = post_a_goals\n",
    "        players_parameters.loc[players_parameters.index[i], 'b_goals'] = post_b_goals\n",
    "        players_parameters.loc[players_parameters.index[i], 'c_goals'] = post_c_goals\n",
    "        players_parameters.loc[players_parameters.index[i], 'a_mins'] = post_a_mins\n",
    "        players_parameters.loc[players_parameters.index[i], 'b_mins'] = post_b_mins\n",
    "        players_parameters.loc[players_parameters.index[i], 'a_games'] = post_a_played\n",
    "        players_parameters.loc[players_parameters.index[i], 'b_games'] = post_b_played"
   ]
  },
  {
   "cell_type": "code",
   "execution_count": null,
   "metadata": {
    "scrolled": false
   },
   "outputs": [],
   "source": [
    "players_parameters"
   ]
  },
  {
   "cell_type": "markdown",
   "metadata": {},
   "source": [
    "Don't need mins-played parameter included in points from scoring for each team goal, since this is taken into account by dividing by ALL of teams goals in season, even when player not on pitch."
   ]
  },
  {
   "cell_type": "code",
   "execution_count": null,
   "metadata": {},
   "outputs": [],
   "source": [
    "# save parameters\n",
    "players_parameters.to_csv(\"../parameters/all_players_params.csv\", index=False)"
   ]
  },
  {
   "cell_type": "code",
   "execution_count": null,
   "metadata": {},
   "outputs": [],
   "source": []
  }
 ],
 "metadata": {
  "kernelspec": {
   "display_name": "Python 3",
   "language": "python",
   "name": "python3"
  },
  "language_info": {
   "codemirror_mode": {
    "name": "ipython",
    "version": 3
   },
   "file_extension": ".py",
   "mimetype": "text/x-python",
   "name": "python",
   "nbconvert_exporter": "python",
   "pygments_lexer": "ipython3",
   "version": "3.5.2"
  }
 },
 "nbformat": 4,
 "nbformat_minor": 2
}
