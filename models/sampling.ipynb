{
 "cells": [
  {
   "cell_type": "code",
   "execution_count": null,
   "metadata": {},
   "outputs": [],
   "source": [
    "import matplotlib.pyplot as plot\n",
    "import numpy as np\n",
    "from scipy.stats import norm\n",
    "import seaborn as sns\n",
    "from scipy.stats import poisson\n",
    "from scipy.stats import gamma\n",
    "from scipy.stats import beta\n",
    "import pandas as pd\n",
    "%run -i utils.py"
   ]
  },
  {
   "cell_type": "markdown",
   "metadata": {},
   "source": [
    "### Load parameters"
   ]
  },
  {
   "cell_type": "code",
   "execution_count": null,
   "metadata": {},
   "outputs": [],
   "source": [
    "all_players_params = pd.read_csv(\"../parameters/all_players_params.csv\")\n",
    "all_teams_params = pd.read_csv(\"../parameters/all_teams_params.csv\", header=None)\n",
    "teams = pd.read_csv(\"../parameters/all_teams.csv\", header=None).values[:, 0]"
   ]
  },
  {
   "cell_type": "markdown",
   "metadata": {},
   "source": [
    "### Match-up"
   ]
  },
  {
   "cell_type": "code",
   "execution_count": null,
   "metadata": {},
   "outputs": [],
   "source": [
    "home_team = 'Man City'\n",
    "away_team = 'Aston Villa'\n",
    "home_form = 0  # points in last 5 games\n",
    "away_form = 0  # points in last 5 games"
   ]
  },
  {
   "cell_type": "markdown",
   "metadata": {},
   "source": [
    "#### Sampling Team Performance"
   ]
  },
  {
   "cell_type": "code",
   "execution_count": null,
   "metadata": {},
   "outputs": [],
   "source": [
    "tp = all_teams_params.values\n",
    "N = 50000\n",
    "\n",
    "goals_home = np.zeros(N)\n",
    "goals_away = np.zeros(N)\n",
    "for i in range(N):\n",
    "    params = np.zeros(np.shape(tp)[0])\n",
    "    for j in range(np.shape(tp)[0]):\n",
    "        params[j] = np.random.normal(tp[j, 0], tp[j, 1])\n",
    "    mu = params[0]\n",
    "    a = params[1:(len(teams) + 1)]\n",
    "    d = params[(len(teams) + 1):((2 * len(teams)) + 1)]\n",
    "    alpha = params[-1]\n",
    "    result_lambdas = predict_fixtures(np.reshape(np.array([home_team, away_team]), ((1, 2))), np.reshape(np.array([home_form, away_form]), ((1, 2))),\n",
    "                                      teams, mu, a, d, alpha)\n",
    "    goals_home[i] = np.random.poisson(result_lambdas[0][0])\n",
    "    goals_away[i] = np.random.poisson(result_lambdas[1][0])"
   ]
  },
  {
   "cell_type": "code",
   "execution_count": null,
   "metadata": {
    "scrolled": true
   },
   "outputs": [],
   "source": [
    "p1=sns.kdeplot(goals_home, shade=True, color=\"r\", bw=0.5)\n",
    "p1=sns.kdeplot(goals_away, shade=True, color=\"b\", bw=0.5)\n",
    "plot.xlabel(\"goals\")\n",
    "plot.ylabel('frequency density')\n",
    "plot.legend([home_team, away_team])\n",
    "\n",
    "print('---------------------')\n",
    "print('Chance of home win: ', sum(goals_home > goals_away) / N)\n",
    "print('Chance of draw: ', sum(goals_home == goals_away) / N)\n",
    "print('Chance of away win: ', sum(goals_home < goals_away) / N)\n",
    "print('---------------------')"
   ]
  },
  {
   "cell_type": "markdown",
   "metadata": {},
   "source": [
    "#### Sampling player performance"
   ]
  },
  {
   "cell_type": "code",
   "execution_count": null,
   "metadata": {},
   "outputs": [],
   "source": [
    "player = 'Kevin De Bruyne'\n",
    "starting = None  # either true false or None\n",
    "home_players = list(all_players_params.loc[all_players_params.index[all_players_params['team'] == home_team], 'player'])\n",
    "away_players = list(all_players_params.loc[all_players_params.index[all_players_params['team'] == away_team], 'player'])\n",
    "if (player not in home_players) and (player not in away_players):\n",
    "    print('Player doesnt play for either home or away team')\n",
    "else:\n",
    "    \n",
    "    team_player = all_players_params.loc[all_players_params.index[all_players_params['player'] == player], 'team'].values[0]\n",
    "    \n",
    "    clean_sheets = np.zeros(N)\n",
    "    mins_played = np.zeros(N)\n",
    "    goals = np.zeros(N)\n",
    "    assists = np.zeros(N)\n",
    "    \n",
    "    a_mins = all_players_params.loc[all_players_params.index[all_players_params['player'] == player], 'a_mins'].values[0]\n",
    "    b_mins = all_players_params.loc[all_players_params.index[all_players_params['player'] == player], 'b_mins'].values[0]\n",
    "    a_games = all_players_params.loc[all_players_params.index[all_players_params['player'] == player], 'a_games'].values[0]\n",
    "    b_games = all_players_params.loc[all_players_params.index[all_players_params['player'] == player], 'b_games'].values[0]\n",
    "    a_goals = all_players_params.loc[all_players_params.index[all_players_params['player'] == player], 'a_goals'].values[0]\n",
    "    b_goals = all_players_params.loc[all_players_params.index[all_players_params['player'] == player], 'b_goals'].values[0]\n",
    "    c_goals = all_players_params.loc[all_players_params.index[all_players_params['player'] == player], 'c_goals'].values[0]\n",
    "    \n",
    "    for i in range(N):\n",
    "        mins_played[i] = sample_mins_played(a_mins, b_mins, a_games, b_games, starting)\n",
    "        clean_sheets[i] = (mins_played[i] >= 60) * (np.array([goals_home[i], goals_away[i]])[int(home_team == team_player)] == 0)\n",
    "        goa, assi = sample_goals_and_assists(a_goals, b_goals, c_goals, int(np.array([goals_home[i], goals_away[i]])[int(away_team == team_player)]), mins_played[i])\n",
    "        goals[i] = goa\n",
    "        assists[i] = assi\n",
    "    \n",
    "    print('-----------------------------')\n",
    "    print('Chance of 1 goal: ', sum(goals == 1) / N)\n",
    "    print('Chance of 2 goals: ', sum(goals == 2) / N)\n",
    "    print('Chance of 3 goals: ', sum(goals == 3) / N)\n",
    "    print('-----------------------------')\n",
    "    \n",
    "    print('-----------------------------')\n",
    "    print('Chance of 1 assist: ', sum(assists == 1) / N)\n",
    "    print('Chance of 2 assists: ', sum(assists == 2) / N)\n",
    "    print('Chance of 3 assists: ', sum(assists == 3) / N)\n",
    "    print('-----------------------------')\n",
    "    \n",
    "    if all(mins_played == 0) == False:\n",
    "        p1=sns.kdeplot(mins_played, shade=True, color=\"r\", bw=0.5)\n",
    "        plot.xlabel(\"minutes played\")\n",
    "        plot.ylabel('frequency density')\n",
    "        plot.show()\n",
    "    \n",
    "    print('-----------------------------')\n",
    "    print('Chance of clean sheet: ', sum(clean_sheets) / N)\n",
    "    print('-----------------------------')\n",
    "    \n",
    "    print('-----------------------------')\n",
    "    print('Expected Minutes: ', np.mean(mins_played))\n",
    "    print('-----------------------------')"
   ]
  },
  {
   "cell_type": "code",
   "execution_count": null,
   "metadata": {},
   "outputs": [],
   "source": []
  },
  {
   "cell_type": "code",
   "execution_count": null,
   "metadata": {},
   "outputs": [],
   "source": []
  }
 ],
 "metadata": {
  "kernelspec": {
   "display_name": "Python 3",
   "language": "python",
   "name": "python3"
  },
  "language_info": {
   "codemirror_mode": {
    "name": "ipython",
    "version": 3
   },
   "file_extension": ".py",
   "mimetype": "text/x-python",
   "name": "python",
   "nbconvert_exporter": "python",
   "pygments_lexer": "ipython3",
   "version": "3.5.2"
  }
 },
 "nbformat": 4,
 "nbformat_minor": 2
}
