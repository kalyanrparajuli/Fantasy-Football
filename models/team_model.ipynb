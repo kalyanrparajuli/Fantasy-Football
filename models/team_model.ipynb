{
 "cells": [
  {
   "cell_type": "code",
   "execution_count": null,
   "metadata": {},
   "outputs": [],
   "source": [
    "import numpy as np\n",
    "import os\n",
    "import csv\n",
    "from scipy.stats import poisson\n",
    "from scipy.stats import norm\n",
    "import pandas as pd\n",
    "import itertools\n",
    "import matplotlib.pyplot as plot\n",
    "%run -i utils.py"
   ]
  },
  {
   "cell_type": "markdown",
   "metadata": {},
   "source": [
    "### Historical training"
   ]
  },
  {
   "cell_type": "code",
   "execution_count": null,
   "metadata": {},
   "outputs": [],
   "source": [
    "fixture_list_1, fixture_list_2, fixture_list_3 = import_fixture_lists(\"../data/prem_results_20162017.csv\",\n",
    "                                                                      \"../data/prem_results_20172018.csv\",\n",
    "                                                                      \"../data/prem_results_20182019.csv\")"
   ]
  },
  {
   "cell_type": "code",
   "execution_count": null,
   "metadata": {
    "scrolled": false
   },
   "outputs": [],
   "source": [
    "# all teams in three seasons and fourth season\n",
    "team_list = np.concatenate((np.unique(fixture_list_1.as_matrix()[:, 0]),\n",
    "                            np.unique(fixture_list_2.as_matrix()[:, 0]),\n",
    "                            np.unique(fixture_list_3.as_matrix()[:, 0]),\n",
    "                            ((pd.read_csv(\"../data/team_id_20192020.csv\", header=0)).as_matrix())[:, 0]))"
   ]
  },
  {
   "cell_type": "code",
   "execution_count": null,
   "metadata": {},
   "outputs": [],
   "source": [
    "teams = np.unique(team_list)"
   ]
  },
  {
   "cell_type": "code",
   "execution_count": null,
   "metadata": {},
   "outputs": [],
   "source": [
    "fl1 = fixture_list_1.as_matrix()\n",
    "fl2 = fixture_list_2.as_matrix()\n",
    "fl3 = fixture_list_3.as_matrix()"
   ]
  },
  {
   "cell_type": "code",
   "execution_count": null,
   "metadata": {},
   "outputs": [],
   "source": [
    "# test\n",
    "a = np.ones(len(teams)) * 0.1\n",
    "d = np.ones(len(teams)) * 0.1\n",
    "mu = 0.1\n",
    "intercept = 0.1\n",
    "l = likelihood_season(fl1, teams, intercept, mu, a, d)"
   ]
  },
  {
   "cell_type": "code",
   "execution_count": null,
   "metadata": {},
   "outputs": [],
   "source": [
    "# test\n",
    "predict_fixtures(fl1[1:3, :], teams, intercept, mu, a, d)"
   ]
  },
  {
   "cell_type": "code",
   "execution_count": null,
   "metadata": {
    "scrolled": false
   },
   "outputs": [],
   "source": [
    "priormeans = np.ones((2 * len(teams)) + 2) * 0.0\n",
    "priorsds = np.ones((2 * len(teams)) + 2) * 0.15\n",
    "beta = 0.0002\n",
    "niter = 30000\n",
    "\n",
    "# prior-out promoted teams\n",
    "inds = list(np.where(teams == 'Norwich City')[0])\n",
    "inds.append(np.where(teams == 'Aston Villa')[0][0])\n",
    "inds.append(np.where(teams == 'Sheffield United')[0][0])\n",
    "inds = np.array(inds)\n",
    "\n",
    "est = EstimateParameters(fl1, fl2, fl3, teams, beta, priormeans, priorsds, niter=niter, zerooutinds=inds)"
   ]
  },
  {
   "cell_type": "code",
   "execution_count": null,
   "metadata": {},
   "outputs": [],
   "source": [
    "tm = 'Man City'\n",
    "plot.plot(est[:, (2 + np.where(teams == tm)[0][0]).astype(int)], 'r', alpha=0.5)\n",
    "plot.plot(est[:, (len(teams) + 2 + np.where(teams == tm)[0][0]).astype(int)], 'k', alpha=0.5)\n",
    "\n",
    "tm = 'Arsenal'\n",
    "plot.plot(est[:, (2 + np.where(teams == tm)[0][0]).astype(int)], 'b', alpha=0.5)\n",
    "plot.plot(est[:, (len(teams) + 2 + np.where(teams == tm)[0][0]).astype(int)], 'g', alpha=0.5)\n",
    "plot.show()\n",
    "\n",
    "plot.plot(est[:, 0], 'k')\n",
    "plot.show()\n",
    "\n",
    "plot.plot(est[:, 1], 'k')\n",
    "plot.show()"
   ]
  },
  {
   "cell_type": "markdown",
   "metadata": {},
   "source": [
    "#### Save parameters"
   ]
  },
  {
   "cell_type": "code",
   "execution_count": null,
   "metadata": {},
   "outputs": [],
   "source": [
    "# save parameters\n",
    "burn = int((1 * niter) / 5)\n",
    "int_mean = np.array([np.mean(est[burn:, 0])])\n",
    "int_sd = np.array([np.std(est[burn:, 0])])\n",
    "mu_mean = np.array([np.mean(est[burn:, 1])])\n",
    "mu_sd = np.array([np.std(est[burn:, 1])])\n",
    "a_mean = np.mean(est[burn:, 2:(len(teams) + 2)], axis=0)\n",
    "a_sd = np.std(est[burn:, 2:(len(teams) + 2)], axis=0)\n",
    "d_mean = np.mean(est[burn:, (len(teams) + 2):((2 * len(teams)) + 2)], axis=0)\n",
    "d_sd = np.std(est[burn:, (len(teams) + 2):((2 * len(teams)) + 2)], axis=0)\n",
    "means = np.concatenate((int_mean, mu_mean, a_mean, d_mean))\n",
    "sds = np.concatenate((int_sd, mu_sd, a_sd, d_sd))\n",
    "\n",
    "sds[2 + inds] = 0.15\n",
    "sds[2 + len(teams) + inds] = 0.15\n",
    "\n",
    "with open('../parameters/all_teams.csv', mode='w', newline='') as csv_file:\n",
    "    csv_writer = csv.writer(csv_file, delimiter=',')\n",
    "    for tm in teams:\n",
    "        csv_writer.writerow([tm])\n",
    "csv_file.close()\n",
    "\n",
    "with open('../parameters/all_teams_params.csv', mode='w', newline='') as csv_file:\n",
    "    csv_writer = csv.writer(csv_file, delimiter=',')\n",
    "    for i in range(((2 * len(teams)) + 2)):\n",
    "        csv_writer.writerow([means[i], sds[i]])\n",
    "csv_file.close()"
   ]
  },
  {
   "cell_type": "code",
   "execution_count": null,
   "metadata": {},
   "outputs": [],
   "source": [
    "sds[2:(len(teams)+2)]"
   ]
  },
  {
   "cell_type": "code",
   "execution_count": null,
   "metadata": {},
   "outputs": [],
   "source": [
    "plot.plot(np.sort(means[2:(len(teams)+2)]))"
   ]
  },
  {
   "cell_type": "code",
   "execution_count": null,
   "metadata": {},
   "outputs": [],
   "source": []
  }
 ],
 "metadata": {
  "kernelspec": {
   "display_name": "Python 3",
   "language": "python",
   "name": "python3"
  },
  "language_info": {
   "codemirror_mode": {
    "name": "ipython",
    "version": 3
   },
   "file_extension": ".py",
   "mimetype": "text/x-python",
   "name": "python",
   "nbconvert_exporter": "python",
   "pygments_lexer": "ipython3",
   "version": "3.5.2"
  }
 },
 "nbformat": 4,
 "nbformat_minor": 2
}
