{
 "cells": [
  {
   "cell_type": "code",
   "execution_count": null,
   "metadata": {},
   "outputs": [],
   "source": [
    "import numpy as np\n",
    "import os\n",
    "import csv\n",
    "from scipy.stats import poisson\n",
    "from scipy.stats import norm\n",
    "import pandas as pd\n",
    "import itertools\n",
    "import matplotlib.pyplot as plot\n",
    "%run -i utils.py"
   ]
  },
  {
   "cell_type": "markdown",
   "metadata": {},
   "source": [
    "### Historical training"
   ]
  },
  {
   "cell_type": "code",
   "execution_count": null,
   "metadata": {},
   "outputs": [],
   "source": [
    "fixture_list_1, fixture_list_2, fixture_list_3 = import_fixture_lists(\"../data/prem_results_20162017.csv\",\n",
    "                                                                      \"../data/prem_results_20172018.csv\",\n",
    "                                                                      \"../data/prem_results_20182019.csv\")"
   ]
  },
  {
   "cell_type": "code",
   "execution_count": null,
   "metadata": {
    "scrolled": false
   },
   "outputs": [],
   "source": [
    "# all teams in three seasons and fourth season\n",
    "team_list = np.concatenate((np.unique(fixture_list_1.as_matrix()[:, 0]),\n",
    "                            np.unique(fixture_list_2.as_matrix()[:, 0]),\n",
    "                            np.unique(fixture_list_3.as_matrix()[:, 0]),\n",
    "                            ((pd.read_csv(\"../data/team_id_20192020.csv\", header=0)).as_matrix())[:, 0]))"
   ]
  },
  {
   "cell_type": "code",
   "execution_count": null,
   "metadata": {},
   "outputs": [],
   "source": [
    "teams = np.unique(team_list)"
   ]
  },
  {
   "cell_type": "code",
   "execution_count": null,
   "metadata": {},
   "outputs": [],
   "source": [
    "fl1 = fixture_list_1.as_matrix()\n",
    "fl2 = fixture_list_2.as_matrix()\n",
    "fl3 = fixture_list_3.as_matrix()"
   ]
  },
  {
   "cell_type": "code",
   "execution_count": null,
   "metadata": {},
   "outputs": [],
   "source": [
    "# test\n",
    "a = np.ones(len(teams)) * 0.1\n",
    "d = np.ones(len(teams)) * 0.1\n",
    "mu = 0.1\n",
    "l = likelihood_season(fl1, teams, mu, a, d)"
   ]
  },
  {
   "cell_type": "code",
   "execution_count": null,
   "metadata": {},
   "outputs": [],
   "source": [
    "# test\n",
    "predict_fixtures(fl1[1:3, :], teams, mu, a, d)"
   ]
  },
  {
   "cell_type": "code",
   "execution_count": null,
   "metadata": {},
   "outputs": [],
   "source": [
    "priormeans = np.ones((2 * len(teams)) + 2) * 0.0\n",
    "priorsds = np.ones((2 * len(teams)) + 2) * 0.1\n",
    "beta = 0.001\n",
    "niter = 50000\n",
    "\n",
    "# prior-out promoted teams\n",
    "inds = list(np.where(teams == 'Norwich City')[0])\n",
    "inds.append(np.where(teams == 'Aston Villa')[0][0])\n",
    "inds.append(np.where(teams == 'Sheffield United')[0][0])\n",
    "inds = np.array(inds)\n",
    "\n",
    "est = EstimateParameters(fl1, fl2, fl3, teams, beta, priormeans, priorsds, niter=niter, zerooutinds=inds)"
   ]
  },
  {
   "cell_type": "code",
   "execution_count": null,
   "metadata": {},
   "outputs": [],
   "source": [
    "tm = 'Man City'\n",
    "plot.plot(est[:, (1 + np.where(teams == tm)[0][0]).astype(int)], 'r')\n",
    "plot.plot(est[:, (len(teams) + 1 + np.where(teams == tm)[0][0]).astype(int)], 'b')\n",
    "plot.show()\n",
    "\n",
    "plot.plot(est[:, 0], 'k')\n",
    "plot.show()"
   ]
  },
  {
   "cell_type": "markdown",
   "metadata": {},
   "source": [
    "#### Save parameters"
   ]
  },
  {
   "cell_type": "code",
   "execution_count": null,
   "metadata": {},
   "outputs": [],
   "source": [
    "# save parameters\n",
    "burn = int((2 * niter) / 5)\n",
    "mu_mean = np.array([np.mean(est[burn:, 0])])\n",
    "mu_sd = np.array([np.std(est[burn:, 0])])\n",
    "a_mean = np.mean(est[burn:, 1:(len(teams) + 1)], axis=0)\n",
    "a_sd = np.std(est[burn:, 1:(len(teams) + 1)], axis=0)\n",
    "d_mean = np.mean(est[burn:, (len(teams) + 1):((2 * len(teams)) + 1)], axis=0)\n",
    "d_sd = np.std(est[burn:, (len(teams) + 1):((2 * len(teams)) + 1)], axis=0)\n",
    "means = np.concatenate((mu_mean, a_mean, d_mean))\n",
    "sds = np.concatenate((mu_sd, a_sd, d_sd))\n",
    "\n",
    "sds[1 + inds] = 0.1\n",
    "sds[1 + len(teams) + inds] = 0.1\n",
    "\n",
    "with open('../parameters/all_teams.csv', mode='w', newline='') as csv_file:\n",
    "    csv_writer = csv.writer(csv_file, delimiter=',')\n",
    "    for tm in teams:\n",
    "        csv_writer.writerow([tm])\n",
    "csv_file.close()\n",
    "\n",
    "with open('../parameters/all_teams_params.csv', mode='w', newline='') as csv_file:\n",
    "    csv_writer = csv.writer(csv_file, delimiter=',')\n",
    "    for i in range(((2 * len(teams)) + 1)):\n",
    "        csv_writer.writerow([means[i], sds[i]])\n",
    "csv_file.close()"
   ]
  },
  {
   "cell_type": "markdown",
   "metadata": {},
   "source": [
    "#### Simulate seasons performance of teams"
   ]
  },
  {
   "cell_type": "code",
   "execution_count": null,
   "metadata": {},
   "outputs": [],
   "source": [
    "fixture_list_this_season = pd.read_csv(\"../data/prem_results_20192020.csv\").values\n",
    "\n",
    "wins = np.zeros(20)\n",
    "topfour = np.zeros(20)\n",
    "niter = 300\n",
    "\n",
    "# predict lambdas - average form\n",
    "muest = np.hstack((means[0], sds[0]))\n",
    "aest = np.hstack((np.reshape(means[1:(1+len(teams))], ((len(teams), 1))),\n",
    "                  np.reshape(sds[1:(1+len(teams))], ((len(teams), 1)))))\n",
    "dest = np.hstack((np.reshape(means[(1+len(teams)):(1+(2*len(teams)))], ((len(teams), 1))),\n",
    "                  np.reshape(sds[(1+len(teams)):(1+(2*len(teams)))], ((len(teams), 1)))))\n",
    "\n",
    "for j in range(niter):\n",
    "    # work out total goals predicted\n",
    "    total_goals = np.zeros(20)\n",
    "    #actual_goals = np.zeros(20)\n",
    "    total_goals_conceded = np.zeros(20)\n",
    "    #actual_goals_conceded = np.zeros(20)\n",
    "    tms = np.unique(fixture_list_this_season[:, 0])\n",
    "    goals_this_season = predict_fixtures(fixture_list_this_season, teams, muest, aest, dest, uncertainty=True)\n",
    "    pnts = np.zeros(20)\n",
    "    for i in range(np.shape(fixture_list_this_season)[0]):\n",
    "        goals_ht = np.random.poisson(goals_this_season[0][i])\n",
    "        goals_at = np.random.poisson(goals_this_season[1][i])\n",
    "        total_goals[np.where(tms == fixture_list_this_season[i, 0])[0][0].astype(int)] += goals_ht\n",
    "        total_goals[np.where(tms == fixture_list_this_season[i, 1])[0][0].astype(int)] += goals_at\n",
    "        pnts[np.where(tms == fixture_list_this_season[i, 0])[0][0].astype(int)] += ((goals_at < goals_ht) * 3) + (goals_at == goals_ht)\n",
    "        pnts[np.where(tms == fixture_list_this_season[i, 1])[0][0].astype(int)] += ((goals_at > goals_ht) * 3) + (goals_at == goals_ht)\n",
    "        #actual_goals[np.where(tms == fl2[i, 0])[0][0].astype(int)] += fl2[i, 2]\n",
    "        #actual_goals[np.where(tms == fl2[i, 1])[0][0].astype(int)] += fl2[i, 3]\n",
    "        total_goals_conceded[np.where(tms == fixture_list_this_season[i, 0])[0][0].astype(int)] += goals_at\n",
    "        total_goals_conceded[np.where(tms == fixture_list_this_season[i, 1])[0][0].astype(int)] += goals_ht\n",
    "        #actual_goals_conceded[np.where(tms == fl2[i, 0])[0][0].astype(int)] += fl2[i, 3]\n",
    "        #actual_goals_conceded[np.where(tms == fl2[i, 1])[0][0].astype(int)] += fl2[i, 2]\n",
    "    # update title wins\n",
    "    wins[np.argmax(pnts)] += 1\n",
    "    # update top four finishes\n",
    "    topfour[np.argsort(pnts)[16:]] += 1"
   ]
  },
  {
   "cell_type": "code",
   "execution_count": null,
   "metadata": {},
   "outputs": [],
   "source": [
    "ind = np.arange(len(topfour))  # the x locations for the groups\n",
    "width = 0.35  # the width of the bars\n",
    "\n",
    "fig, ax = plot.subplots()\n",
    "rects1 = ax.bar(ind - width/2, wins/niter, width,\n",
    "                label='Wins')\n",
    "rects2 = ax.bar(ind + width/2, topfour/niter, width,\n",
    "                label='Top Four')\n",
    "\n",
    "# Add some text for labels, title and custom x-axis tick labels, etc.\n",
    "ax.set_ylabel('Probability')\n",
    "ax.set_xticks(ind)\n",
    "ax.set_xticklabels(tuple(tms))\n",
    "ax.legend()"
   ]
  },
  {
   "cell_type": "code",
   "execution_count": null,
   "metadata": {},
   "outputs": [],
   "source": [
    "print(tms)\n",
    "print(wins/niter)"
   ]
  },
  {
   "cell_type": "code",
   "execution_count": null,
   "metadata": {},
   "outputs": [],
   "source": [
    "print(tms)\n",
    "print(total_goals)\n",
    "print(total_goals_conceded)\n",
    "print(total_goals - total_goals_conceded)\n",
    "print(np.argsort(pnts))"
   ]
  },
  {
   "cell_type": "code",
   "execution_count": null,
   "metadata": {},
   "outputs": [],
   "source": []
  }
 ],
 "metadata": {
  "kernelspec": {
   "display_name": "Python 3",
   "language": "python",
   "name": "python3"
  },
  "language_info": {
   "codemirror_mode": {
    "name": "ipython",
    "version": 3
   },
   "file_extension": ".py",
   "mimetype": "text/x-python",
   "name": "python",
   "nbconvert_exporter": "python",
   "pygments_lexer": "ipython3",
   "version": "3.5.2"
  }
 },
 "nbformat": 4,
 "nbformat_minor": 2
}
